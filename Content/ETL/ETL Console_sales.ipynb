{
 "cells": [
  {
   "cell_type": "markdown",
   "metadata": {},
   "source": [
    "ETL Console sales\n",
    "- Se promovió a encabezado la primera fila\n",
    "- Se cambiaron los tipos de datos de cada columna al correcto, para evitar problemas con números y textos\n",
    "- Se borraron las filas con datos faltantes y defectuosos cuya transformación no era posible\n",
    "- Se borró la columna \"dato\", ya que iba a aportarnos nada\n",
    "- Cambiamos de nombre los encabezados al español\n",
    "- Filtramos para que solo abarque entre los años 2012 y 2015\n"
   ]
  }
 ],
 "metadata": {
  "language_info": {
   "name": "python"
  }
 },
 "nbformat": 4,
 "nbformat_minor": 2
}
