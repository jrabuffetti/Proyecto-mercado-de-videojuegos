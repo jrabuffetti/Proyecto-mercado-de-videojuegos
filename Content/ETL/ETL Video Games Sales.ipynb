{
 "cells": [
  {
   "cell_type": "markdown",
   "metadata": {},
   "source": [
    "ETL VideoGames Sales\n",
    "- Se promovió a encabezado la primera fila\n",
    "- Cambiamos el tipo de dato de todas las columnas\n",
    "- Removimos las columnas \"Critic_count\" y \"User_Count\", ya que no nos van a servir\n",
    "- Filtramos para que solo abarque entre los años 2012 y 2015, que son los años que vamos a utilizar\n",
    "- Cambiamos el nombre de las columnas al español\n",
    "- Reemplazamos los valores nulos de la columna \"Desarrollador\" por \"Desconocido\"\n",
    "- Reemplazamos los valores nulos de la columna \"Puntaje Usuarios\" por \"No registrado\"\n",
    "- Usamos el siguiente código para agregar una columna condicional donde vamos a intentar recrear la columna \"Rating\" pero dándole valor a la mayor cantidad posible de datos nulos, teniendo en cuenta que los siguientes franquicias comparten el mismo rating en todos sus títulos:\n",
    "\n",
    "\n",
    "= Table.AddColumn(#\"Replaced Value1\", \"Custom\", each  \n",
    " if Text.StartsWith([Juego], \"Pokemon\") then \"E\"  \n",
    " else if Text.StartsWith([Juego], \"Call of Duty\") then \"M\"  \n",
    " else if Text.StartsWith([Juego], \"Star Wars\") then \"T\"  \n",
    " else if Text.StartsWith([Juego], \"Super Smash\") then \"E\"  \n",
    " else if Text.Contains([Juego], \"Zelda\") then \"E\"  \n",
    " else if Text.StartsWith([Juego], \"FIFA\") then \"E\"  \n",
    " else if Text.Contains([Juego], \"Mario\") then \"E\"  \n",
    " else if Text.Contains([Juego], \"LEGO\") then \"E\"  \n",
    " else [Rating])  \n",
    "\n",
    "\n",
    "- Usamos el siguiente código para crear una columna personalizada, donde vamos a intentar replicar la columna de ventas totales pero dándole valor a la mayor cantidad posible de datos nulos:\n",
    "\n",
    "\n",
    "= Table.AddColumn(#\"Changed Type4\", \"Ventas totales nueva\", each if [Ventas totales] = null  \n",
    "then [Ventas EEUU] + [Ventas Europa] + [Ventas Japón] + [Ventas Resto del mundo]  \n",
    "else [Ventas totales])  \n",
    "\n",
    "\n",
    "- Repetimos el paso anterior para las columnas \"Ventas EEUU\", \"Ventas Europa, \"Ventas Japón\" y \"Ventas resto del mundo\n",
    "- Borramos las columnas desactualizadas\n",
    "- Utilizamos el siguiente código para filtrar y dejar solo las consolas que vamos a tomar en consideración:\n",
    "\n",
    "\n",
    "= Table.SelectRows(#\"Changed Type6\", each ([Ventas totales] <> null) and ([Año de estreno] <> 2016 and [Año de estreno] <> 2017)  \n",
    "and ([Plataforma] <> \"DS\" and [Plataforma] <> \"PSP\" and [Plataforma] <> \"PSV\"))  \n",
    "\n",
    "\n",
    "- Clonamos la columna de consolas, y reemplazamos sus valores a los de la empresa que pertenece cada una (Nintendo, Sony y Microsoft)\n",
    "- Reemplazamos los datos nulos de la columna \"Rating\" por el rango \"RP\", que es el rango utilizado para los \"Aún Sin clasificar\"\n"
   ]
  }
 ],
 "metadata": {
  "language_info": {
   "name": "python"
  }
 },
 "nbformat": 4,
 "nbformat_minor": 2
}
