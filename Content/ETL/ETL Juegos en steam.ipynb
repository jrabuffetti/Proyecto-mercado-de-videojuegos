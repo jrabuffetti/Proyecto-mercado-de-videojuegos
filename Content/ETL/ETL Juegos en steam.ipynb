{
 "cells": [
  {
   "cell_type": "markdown",
   "metadata": {},
   "source": [
    "ETL juegos en steam\n",
    "- Se promovió a encabezado la primera fila\n",
    "- Removimos las columnas Achievements, median_playtime, required_age y English, ya que no nos iban a aportar información útil para nuestro proyecto\n",
    "- Cambiamos los nombres de los encabezados al español\n",
    "- Cambiamos el tipo de la columna \"Fecha de estreno\" y solo dejamos el año\n",
    "- Utilizamos la siguiente función para crear una columna condicional que nos diga si el juego es Single-player o Multi-player:\n",
    "\n",
    "\n",
    "= Table.AddColumn(#\"Extracted Year\", \"Custom\", each  \n",
    "if Text.StartsWith([Categorías], \"Single-player\") then \"Single-player\"  \n",
    "else if Text.Contains([Categorías], \"MMO\") then \"Multi-player\"  \n",
    "else if Text.Contains([Categorías], \"Multi-player\") then \"Multi-player\"  \n",
    "else if Text.Contains([Categorías], \"Multi-Player\") then \"Multi-player\"  \n",
    "else null)\n",
    "\n",
    "\n",
    "- Cambiamos de nombre algunas columnas y filtramos para que solo abarque entre los años 2012 y 2015, que son los años que vamos a utilizar\n",
    "- Filtramos para que solo hayan juegos cuya plataforma sea la PC, y dejamos afuera 3 juegos de mac\n",
    "- Utilizamos la siguiente función para crear una columna con las mismas categorías que utilizamos en la tabla de video game sales, basándonos en los datos otorgados en las columnas \"Género\" y \"steamspy_tags\"\n",
    "\n",
    "\n",
    "= Table.AddColumn(#\"Removed Columns3\", \"Custom\", each  \n",
    "if Text.Contains([steamspy_tags], \"Shooter\") then \"Shooter\"  \n",
    "else if Text.StartsWith([Genero], \"Action\") then \"Action\"  \n",
    "else if Text.StartsWith([Genero], \"Adventure\") then \"Adventure\"  \n",
    "else if Text.StartsWith([steamspy_tags], \"Fighting\") then \"Fighting\"  \n",
    "else if Text.StartsWith([Genero], \"Indie\") then \"Misc\"  \n",
    "else if Text.StartsWith([Genero], \"Design & Illustration\") then \"Misc\"  \n",
    "else if Text.StartsWith([Genero], \"Animation & Modeling\") then \"Misc\"  \n",
    "else if Text.StartsWith([Genero], \"Sexual\") then \"Misc\"  \n",
    "else if Text.StartsWith([Genero], \"Nudity\") then \"Misc\"  \n",
    "else if Text.Contains([Genero], \"RPG\") then \"Role-Playing\"  \n",
    "else if Text.Contains([steamspy_tags], \"Platformer\") then \"Platform\"  \n",
    "else if Text.Contains([Genero], \"Racing\") then \"Racing\"\n",
    "else if Text.Contains([Genero], \"Sports\") then \"Sports\"  \n",
    "else if Text.StartsWith([Genero], \"Strategy\") then \"Strategy\"  \n",
    "else if Text.StartsWith([Genero], \"Casual\") then \"Misc\"  \n",
    "else if Text.Contains([Genero], \"Simulation\") then \"Simulation\"  \n",
    "else if Text.Contains([steamspy_tags], \"Puzzle\") then \"Puzzle\"  \n",
    "else \"Misc\")\n",
    "\n",
    "\n",
    "- Removimos la columna \"Género\" y \"steamspy_tags\", ya que no nos iba a servir más\n",
    "- A la nueva columna le cambiamos el nombre a \"Género\"\n",
    "- Separamos la columna \"owners\" en dos partes, utilizando el separador \"-\"\n",
    "- Estas dos nuevas columnas las utilizamos para encontrar la mediana y crear una nueva columna llamada \"Ventas Aproximadas\", y le cambiamos el tipo de dato a un número entero\n",
    "- Removimos las columna \"owners.1\" y \"owners.2\"\n",
    "\n",
    "\n"
   ]
  }
 ],
 "metadata": {
  "kernelspec": {
   "display_name": "Python 3",
   "language": "python",
   "name": "python3"
  },
  "language_info": {
   "codemirror_mode": {
    "name": "ipython",
    "version": 3
   },
   "file_extension": ".py",
   "mimetype": "text/x-python",
   "name": "python",
   "nbconvert_exporter": "python",
   "pygments_lexer": "ipython3",
   "version": "3.10.9"
  }
 },
 "nbformat": 4,
 "nbformat_minor": 2
}
