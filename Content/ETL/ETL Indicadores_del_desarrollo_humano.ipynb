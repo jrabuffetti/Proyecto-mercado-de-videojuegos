{
 "cells": [
  {
   "cell_type": "markdown",
   "metadata": {},
   "source": [
    "ETL Indicadores del desarrollo humano mundial Banco Mundial\n",
    "- Se promovió a encabezado la primera fila\n",
    "- Se cambiaron los tipos de datos de cada columna al correcto, para evitar problemas con números y textos\n",
    "- Redujimos a solo las 4 filas que se refieren al INB per cápita, PPA (a $ internacionales actuales), ya que es con lo que vamos a trabajar\n",
    "- Removimos las columnas con el siguiente comando: = Table.RemoveColumns(#\"Filtered Rows\",{\"Series Name\", \"Series Code\", \"Country Code\", \"2019 [YR2019]\"}) , ya que no aportan información que vayamos a utilizar\n",
    "- Usamos la transposición para que las filas pasen a ser columnas y viceversa\n",
    "- Nuevamente promovimos la primer fila al encabezado\n",
    "- Cambiamos el tipo de datos de cada columna al correcto\n",
    "- Agregamos una columna con los años de cada dato\n",
    "- Cambiamos el nombre de los encabezados al español\n",
    "- Filtramos para que solo abarque entre los años 2012 y 2015, que son los años que vamos a utilizar"
   ]
  }
 ],
 "metadata": {
  "language_info": {
   "name": "python"
  }
 },
 "nbformat": 4,
 "nbformat_minor": 2
}
